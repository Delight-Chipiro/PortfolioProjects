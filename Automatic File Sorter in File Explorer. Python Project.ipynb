{
 "cells": [
  {
   "cell_type": "markdown",
   "id": "be1be9fa",
   "metadata": {},
   "source": [
    "# Automatic File Sorter in File Explorer"
   ]
  },
  {
   "cell_type": "code",
   "execution_count": 1,
   "id": "88515d83",
   "metadata": {},
   "outputs": [],
   "source": [
    "import os, shutil"
   ]
  },
  {
   "cell_type": "code",
   "execution_count": 2,
   "id": "ffce838b",
   "metadata": {},
   "outputs": [],
   "source": [
    "path = r'C:/Users/delig/Documents/Python Project/'"
   ]
  },
  {
   "cell_type": "code",
   "execution_count": 5,
   "id": "3b96b31b",
   "metadata": {},
   "outputs": [
    {
     "data": {
      "text/plain": [
       "['Dashboard Project With Excel.xlsx',\n",
       " 'RoadMap.txt',\n",
       " '_MG_3554.jpeg',\n",
       " '_MG_3557.jpg']"
      ]
     },
     "execution_count": 5,
     "metadata": {},
     "output_type": "execute_result"
    }
   ],
   "source": [
    "file_name = os.listdir(path)\n",
    "\n",
    "file_name"
   ]
  },
  {
   "cell_type": "code",
   "execution_count": 6,
   "id": "9acbda21",
   "metadata": {},
   "outputs": [],
   "source": [
    "folder_names = ['Excel files','Image files','text files']\n",
    "\n",
    "for loop in range(0,3):\n",
    "    #os.path.exists(path + folder_names[loop])\n",
    "    if not os.path.exists(path + folder_names[loop]):\n",
    "        #print(path + folder_names[loop])\n",
    "        os.makedirs(path + folder_names[loop])\n",
    "\n",
    "for file in file_name:\n",
    "    if '.xlsx' in file and not os.path.exists(path + \"Excel files/\" + file):\n",
    "        shutil.move(path + file, path + \"Excel files/\"+ file)\n",
    "    elif '.jpg' in file and not os.path.exists(path + \"Image files/\" + file):\n",
    "        shutil.move(path + file, path + \"Image files/\"+ file)\n",
    "    elif '.jpeg' in file and not os.path.exists(path + \"Image files/\" + file):\n",
    "        shutil.move(path + file, path + \"Image files/\"+ file)\n",
    "    elif '.txt' in file and not os.path.exists(path + \"text files/\" + file):\n",
    "        shutil.move(path + file, path + \"text files/\"+ file) "
   ]
  },
  {
   "cell_type": "code",
   "execution_count": null,
   "id": "0ce2ba2a",
   "metadata": {},
   "outputs": [],
   "source": []
  }
 ],
 "metadata": {
  "kernelspec": {
   "display_name": "Python 3 (ipykernel)",
   "language": "python",
   "name": "python3"
  },
  "language_info": {
   "codemirror_mode": {
    "name": "ipython",
    "version": 3
   },
   "file_extension": ".py",
   "mimetype": "text/x-python",
   "name": "python",
   "nbconvert_exporter": "python",
   "pygments_lexer": "ipython3",
   "version": "3.11.5"
  }
 },
 "nbformat": 4,
 "nbformat_minor": 5
}
